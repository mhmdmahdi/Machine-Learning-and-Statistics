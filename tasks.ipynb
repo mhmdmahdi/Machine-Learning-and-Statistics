{
 "cells": [
  {
   "cell_type": "markdown",
   "metadata": {},
   "source": [
    "# Tasks\n",
    "\n",
    "Machine Learning & Statistics\n",
    "\n",
    "Winter 2023/24\n",
    "\n",
    "by Mohammed Mahdi\n",
    "\n",
    "***"
   ]
  },
  {
   "cell_type": "markdown",
   "metadata": {},
   "source": [
    "## Task 1\n",
    "\n",
    "> Square roots are difficult to calculate. In Python, you typically use the power operator (a double asterisk) or a package such as `math`. In this task, you should write a function `sqrt(x)` to approximate the square root of a floating point number x without using the power operator or a package. \n",
    "\n",
    "> Rather, you should use Newton's Method. Start with an inital guess for the square root called $z_0$. You then repeatedly improve it using the following formula, until the difference between some previous guess $zi$ and the next $z_{i+1}$ is less than some threshold, say 0.01. \n",
    "\n",
    "$$ z_{i+1} = z_i - \\frac{z_i × z_i - x}{2z_i} $$"
   ]
  },
  {
   "cell_type": "code",
   "execution_count": 1,
   "metadata": {},
   "outputs": [],
   "source": [
    "def sqrt(x):\n",
    "    # Initial guess for the square root\n",
    "    z = x / 4.0\n",
    "\n",
    "    # Loop until we are accurate enough\n",
    "    for i in range(100):\n",
    "        # Newton's method for a better approximation:\n",
    "        z = z - (((z*z)-x))/(2*z)\n",
    "\n",
    "    # z should now be a good approximation for the square root\n",
    "    return z"
   ]
  },
  {
   "cell_type": "code",
   "execution_count": 2,
   "metadata": {},
   "outputs": [
    {
     "data": {
      "text/plain": [
       "1.7320508075688774"
      ]
     },
     "execution_count": 2,
     "metadata": {},
     "output_type": "execute_result"
    }
   ],
   "source": [
    "# Test the function on 3\n",
    "sqrt(3)"
   ]
  },
  {
   "cell_type": "code",
   "execution_count": 3,
   "metadata": {},
   "outputs": [
    {
     "data": {
      "text/plain": [
       "1.7320508075688772"
      ]
     },
     "execution_count": 3,
     "metadata": {},
     "output_type": "execute_result"
    }
   ],
   "source": [
    "# Check Pythons value for square root of 3\n",
    "3**0.5"
   ]
  },
  {
   "cell_type": "markdown",
   "metadata": {},
   "source": [
    "### Notes\n",
    "\n",
    "1. The calculation $z^2 - x$ is exactly 0 when $z$ is the square root of $x$. It is greater than 0 when $z$ is too big. It is less than 0 when $z$ is too small. Thus $(z^2 - x)^2$ is a good candidate for a cost function. \n",
    "\n",
    "2. The derivative of $z^2 - x$ with respect to $z$ is $2z$. That is the denominator of the fraction in the formula from the question. "
   ]
  },
  {
   "cell_type": "markdown",
   "metadata": {},
   "source": [
    "***\n",
    "\n",
    "End"
   ]
  }
 ],
 "metadata": {
  "kernelspec": {
   "display_name": "base",
   "language": "python",
   "name": "python3"
  },
  "language_info": {
   "codemirror_mode": {
    "name": "ipython",
    "version": 3
   },
   "file_extension": ".py",
   "mimetype": "text/x-python",
   "name": "python",
   "nbconvert_exporter": "python",
   "pygments_lexer": "ipython3",
   "version": "3.11.4"
  },
  "orig_nbformat": 4
 },
 "nbformat": 4,
 "nbformat_minor": 2
}
