{
 "cells": [
  {
   "cell_type": "markdown",
   "metadata": {},
   "source": [
    "# Tasks\n",
    "\n",
    "Machine Learning & Statistics\n",
    "\n",
    "Winter 2023/24\n",
    "\n",
    "Mohammed Mahdi\n",
    "\n",
    "***"
   ]
  },
  {
   "cell_type": "markdown",
   "metadata": {},
   "source": [
    "## Task 1\n",
    "\n",
    "> Square roots are difficult to calculate. In Python, you typically use the power operator (a double asterisk) or a package such as `math`. In this task, you should write a function `sqrt(x)` to approximate the square root of a floating point number x without using the power operator or a package. \n",
    "\n",
    "> Rather, you should use Newton's Method. Start with an inital guess for the square root called $z_0$. You then repeatedly improve it using the following formula, until the difference between some previous guess $zi$ and the next $z_{i+1}$ is less than some threshold, say 0.01. \n",
    "\n",
    "$$ z_{i+1} = z_i - \\frac{z_i × z_i - x}{2z_i} $$"
   ]
  },
  {
   "cell_type": "code",
   "execution_count": 59,
   "metadata": {},
   "outputs": [],
   "source": [
    "def sqrt(x):\n",
    "    # Initial guess for the square root\n",
    "    z = x / 4.0\n",
    "\n",
    "    # Loop until we are accurate enough\n",
    "    for i in range(100):\n",
    "        # Newton's method for a better approximation:\n",
    "        z = z - (((z*z)-x))/(2*z)\n",
    "\n",
    "    # z should now be a good approximation for the square root\n",
    "    return z"
   ]
  },
  {
   "cell_type": "code",
   "execution_count": 60,
   "metadata": {},
   "outputs": [
    {
     "data": {
      "text/plain": [
       "1.7320508075688774"
      ]
     },
     "execution_count": 60,
     "metadata": {},
     "output_type": "execute_result"
    }
   ],
   "source": [
    "# Test the function on 3\n",
    "sqrt(3)"
   ]
  },
  {
   "cell_type": "code",
   "execution_count": 61,
   "metadata": {},
   "outputs": [
    {
     "data": {
      "text/plain": [
       "1.7320508075688772"
      ]
     },
     "execution_count": 61,
     "metadata": {},
     "output_type": "execute_result"
    }
   ],
   "source": [
    "# Check Pythons value for square root of 3\n",
    "3**0.5"
   ]
  },
  {
   "cell_type": "markdown",
   "metadata": {},
   "source": [
    "### Notes\n",
    "\n",
    "1. The calculation $z^2 - x$ is exactly 0 when $z$ is the square root of $x$. It is greater than 0 when $z$ is too big. It is less than 0 when $z$ is too small. Thus $(z^2 - x)^2$ is a good candidate for a cost function. \n",
    "\n",
    "2. The derivative of $z^2 - x$ with respect to $z$ is $2z$. That is the denominator of the fraction in the formula from the question. "
   ]
  },
  {
   "cell_type": "markdown",
   "metadata": {},
   "source": [
    "***\n",
    "\n",
    "End"
   ]
  },
  {
   "cell_type": "markdown",
   "metadata": {},
   "source": [
    "***\n",
    "## Task 2\n",
    "\n",
    "> Consider the below contingency table based on a survey asking respondents whether they prefer coffee or tea and whether they prefer plain or chocolate biscuits. Use `scipy.stats` to perform a chi-squared test to see whether there is any evidence of an association between drink preference and biscuit preference in this instance.\n",
    "\n",
    "|        | Chocolate Biscuit | Plain Biscuit|\n",
    "|--------|-----------|-------|\n",
    "| Coffee | 43        | 57    |\n",
    "| Tea    | 56        | 45    |\n"
   ]
  },
  {
   "cell_type": "code",
   "execution_count": 62,
   "metadata": {},
   "outputs": [],
   "source": [
    "# Data frames.\n",
    "import pandas as pd\n",
    "\n",
    "# Statistics.\n",
    "import scipy.stats as ss\n",
    "\n",
    "# Shuffles.\n",
    "import random"
   ]
  },
  {
   "cell_type": "code",
   "execution_count": 63,
   "metadata": {},
   "outputs": [],
   "source": [
    "# Setting up 4 lists for our dataset\n",
    "coffee_chocolate_biscuit = [['Coffee', 'Chocolate']] * 43\n",
    "coffee_plain_biscuit = [['Coffee', 'Plain']] * 57\n",
    "tea_chocolate_biscuit = [['Tea', 'Chocolate']] * 56\n",
    "tea_plain_biscuit = [['Tea', 'Plain']] * 45"
   ]
  },
  {
   "cell_type": "code",
   "execution_count": 64,
   "metadata": {},
   "outputs": [],
   "source": [
    "# Raw data, merge the four lists.\n",
    "raw_data = coffee_chocolate_biscuit + coffee_plain_biscuit + tea_chocolate_biscuit + tea_plain_biscuit"
   ]
  },
  {
   "cell_type": "code",
   "execution_count": 65,
   "metadata": {},
   "outputs": [],
   "source": [
    "# Shuffle the data.\n",
    "random.shuffle(raw_data)"
   ]
  },
  {
   "cell_type": "code",
   "execution_count": 66,
   "metadata": {},
   "outputs": [],
   "source": [
    "# Zip the list - make the rows columns and the columns rows.\n",
    "# Interchanges the outer and inner lists.\n",
    "drink, biscuit = list(zip(*raw_data))"
   ]
  },
  {
   "cell_type": "code",
   "execution_count": 67,
   "metadata": {},
   "outputs": [
    {
     "data": {
      "text/html": [
       "<div>\n",
       "<style scoped>\n",
       "    .dataframe tbody tr th:only-of-type {\n",
       "        vertical-align: middle;\n",
       "    }\n",
       "\n",
       "    .dataframe tbody tr th {\n",
       "        vertical-align: top;\n",
       "    }\n",
       "\n",
       "    .dataframe thead th {\n",
       "        text-align: right;\n",
       "    }\n",
       "</style>\n",
       "<table border=\"1\" class=\"dataframe\">\n",
       "  <thead>\n",
       "    <tr style=\"text-align: right;\">\n",
       "      <th></th>\n",
       "      <th>Drink</th>\n",
       "      <th>Biscuit</th>\n",
       "    </tr>\n",
       "  </thead>\n",
       "  <tbody>\n",
       "    <tr>\n",
       "      <th>0</th>\n",
       "      <td>Coffee</td>\n",
       "      <td>Chocolate</td>\n",
       "    </tr>\n",
       "    <tr>\n",
       "      <th>1</th>\n",
       "      <td>Coffee</td>\n",
       "      <td>Chocolate</td>\n",
       "    </tr>\n",
       "    <tr>\n",
       "      <th>2</th>\n",
       "      <td>Coffee</td>\n",
       "      <td>Plain</td>\n",
       "    </tr>\n",
       "    <tr>\n",
       "      <th>3</th>\n",
       "      <td>Tea</td>\n",
       "      <td>Plain</td>\n",
       "    </tr>\n",
       "    <tr>\n",
       "      <th>4</th>\n",
       "      <td>Tea</td>\n",
       "      <td>Chocolate</td>\n",
       "    </tr>\n",
       "    <tr>\n",
       "      <th>...</th>\n",
       "      <td>...</td>\n",
       "      <td>...</td>\n",
       "    </tr>\n",
       "    <tr>\n",
       "      <th>196</th>\n",
       "      <td>Coffee</td>\n",
       "      <td>Plain</td>\n",
       "    </tr>\n",
       "    <tr>\n",
       "      <th>197</th>\n",
       "      <td>Tea</td>\n",
       "      <td>Plain</td>\n",
       "    </tr>\n",
       "    <tr>\n",
       "      <th>198</th>\n",
       "      <td>Tea</td>\n",
       "      <td>Plain</td>\n",
       "    </tr>\n",
       "    <tr>\n",
       "      <th>199</th>\n",
       "      <td>Coffee</td>\n",
       "      <td>Chocolate</td>\n",
       "    </tr>\n",
       "    <tr>\n",
       "      <th>200</th>\n",
       "      <td>Tea</td>\n",
       "      <td>Chocolate</td>\n",
       "    </tr>\n",
       "  </tbody>\n",
       "</table>\n",
       "<p>201 rows × 2 columns</p>\n",
       "</div>"
      ],
      "text/plain": [
       "      Drink    Biscuit\n",
       "0    Coffee  Chocolate\n",
       "1    Coffee  Chocolate\n",
       "2    Coffee      Plain\n",
       "3       Tea      Plain\n",
       "4       Tea  Chocolate\n",
       "..      ...        ...\n",
       "196  Coffee      Plain\n",
       "197     Tea      Plain\n",
       "198     Tea      Plain\n",
       "199  Coffee  Chocolate\n",
       "200     Tea  Chocolate\n",
       "\n",
       "[201 rows x 2 columns]"
      ]
     },
     "execution_count": 67,
     "metadata": {},
     "output_type": "execute_result"
    }
   ],
   "source": [
    "# Create a data frame.\n",
    "df = pd.DataFrame({'Drink': drink, 'Biscuit': biscuit})\n",
    "\n",
    "# Show.\n",
    "df"
   ]
  },
  {
   "cell_type": "markdown",
   "metadata": {},
   "source": [
    "### Contingency Table"
   ]
  },
  {
   "cell_type": "code",
   "execution_count": 68,
   "metadata": {},
   "outputs": [
    {
     "data": {
      "text/plain": [
       "CrosstabResult(elements=(array(['Coffee', 'Tea'], dtype=object), array(['Chocolate', 'Plain'], dtype=object)), count=array([[43, 57],\n",
       "       [56, 45]]))"
      ]
     },
     "execution_count": 68,
     "metadata": {},
     "output_type": "execute_result"
    }
   ],
   "source": [
    "# Perform Crosstabs Contingency.\n",
    "cross = ss.contingency.crosstab(df['Drink'], df['Biscuit'])\n",
    "\n",
    "# Show.\n",
    "cross"
   ]
  },
  {
   "cell_type": "code",
   "execution_count": 69,
   "metadata": {},
   "outputs": [
    {
     "data": {
      "text/plain": [
       "(array(['Coffee', 'Tea'], dtype=object),\n",
       " array(['Chocolate', 'Plain'], dtype=object))"
      ]
     },
     "execution_count": 69,
     "metadata": {},
     "output_type": "execute_result"
    }
   ],
   "source": [
    "# The first variable values, and the second.\n",
    "first, second = cross.elements\n",
    "\n",
    "# Show.\n",
    "first, second"
   ]
  },
  {
   "cell_type": "markdown",
   "metadata": {},
   "source": [
    "### Statistical Test\n",
    "\n",
    "https://docs.scipy.org/doc/scipy/reference/generated/scipy.stats.chi2_contingency.html"
   ]
  },
  {
   "cell_type": "code",
   "execution_count": 70,
   "metadata": {},
   "outputs": [
    {
     "data": {
      "text/plain": [
       "array([[43, 57],\n",
       "       [56, 45]])"
      ]
     },
     "execution_count": 70,
     "metadata": {},
     "output_type": "execute_result"
    }
   ],
   "source": [
    "# The counts.\n",
    "cross.count"
   ]
  },
  {
   "cell_type": "markdown",
   "metadata": {},
   "source": [
    "### Perform Chi-Square Test\n",
    "\n",
    "https://docs.scipy.org/doc/scipy/reference/generated/scipy.stats.chi2_contingency.html"
   ]
  },
  {
   "cell_type": "code",
   "execution_count": 71,
   "metadata": {},
   "outputs": [
    {
     "data": {
      "text/plain": [
       "Chi2ContingencyResult(statistic=3.113937364324669, pvalue=0.07762509678333357, dof=1, expected_freq=array([[49.25373134, 50.74626866],\n",
       "       [49.74626866, 51.25373134]]))"
      ]
     },
     "execution_count": 71,
     "metadata": {},
     "output_type": "execute_result"
    }
   ],
   "source": [
    "# Statistics\n",
    "result = ss.chi2_contingency(cross.count, correction=False)\n",
    "\n",
    "# Show?\n",
    "result"
   ]
  },
  {
   "cell_type": "code",
   "execution_count": 72,
   "metadata": {},
   "outputs": [
    {
     "data": {
      "text/plain": [
       "array([[49.25373134, 50.74626866],\n",
       "       [49.74626866, 51.25373134]])"
      ]
     },
     "execution_count": 72,
     "metadata": {},
     "output_type": "execute_result"
    }
   ],
   "source": [
    "# The expected fequencies if independent.\n",
    "result.expected_freq"
   ]
  },
  {
   "cell_type": "markdown",
   "metadata": {},
   "source": [
    "### Verify no relationship based on the Chi-Square Test"
   ]
  },
  {
   "cell_type": "code",
   "execution_count": 73,
   "metadata": {},
   "outputs": [
    {
     "data": {
      "text/plain": [
       "49.25373134328358"
      ]
     },
     "execution_count": 73,
     "metadata": {},
     "output_type": "execute_result"
    }
   ],
   "source": [
    "# If no relationship between drink and biscuit preference,\n",
    "# then we should have same proportion of coffee preference\n",
    "# liking chocolate biscuits as we have overall.\n",
    "100 * (99 / 201)"
   ]
  },
  {
   "cell_type": "code",
   "execution_count": 74,
   "metadata": {},
   "outputs": [
    {
     "data": {
      "text/plain": [
       "50.74626865671642"
      ]
     },
     "execution_count": 74,
     "metadata": {},
     "output_type": "execute_result"
    }
   ],
   "source": [
    "# If no relationship between drink and biscuit preference,\n",
    "# then we should have same proportion of coffee preference\n",
    "# liking plain biscuits as we have overall.\n",
    "100 * (102 / 201)"
   ]
  },
  {
   "cell_type": "code",
   "execution_count": 75,
   "metadata": {},
   "outputs": [
    {
     "data": {
      "text/plain": [
       "49.74626865671642"
      ]
     },
     "execution_count": 75,
     "metadata": {},
     "output_type": "execute_result"
    }
   ],
   "source": [
    "# If no relationship between drink and biscuit preference,\n",
    "# then we should have same proportion of tea preference\n",
    "# liking chocolate biscuits as we have overall.\n",
    "101 * (99 / 201)"
   ]
  },
  {
   "cell_type": "code",
   "execution_count": 76,
   "metadata": {},
   "outputs": [
    {
     "data": {
      "text/plain": [
       "51.25373134328358"
      ]
     },
     "execution_count": 76,
     "metadata": {},
     "output_type": "execute_result"
    }
   ],
   "source": [
    "# If no relationship between drink and biscuit preference,\n",
    "# then we should have same proportion of tea preference\n",
    "# liking plain biscuits as we have overall.\n",
    "101 * (102 / 201)"
   ]
  },
  {
   "cell_type": "markdown",
   "metadata": {},
   "source": [
    "***\n",
    "### Notes\n",
    "\n",
    "Performing a Chi-Square Tes, the following results are observed: \n",
    "\n",
    "Chi2ContingencyResult(statistic=3.113937364324669, pvalue=0.07762509678333357, dof=1, expected_freq=array([[49.25373134, 50.74626866], [49.74626866, 51.25373134]]))\n",
    "\n",
    "1. The p-value is small indicating that it is unlikely that there is a relationship between the variables, a p-value of 0.5 would mean a 50% relational probability. \n",
    "\n",
    "2. The expected_freq was verified based on the proportionality of preferences when computed with consideration to actual preferences. \n",
    "\n",
    "Ref: https://sites.radford.edu/~biol-web/stats/chi-sq_explanation.doc#:~:text=Interpretation,really%20is%20a%20significant%20difference.\n",
    "\n",
    "3. The statistic of 3.11 is low indicating that the expected results are close to the actual data, meaning the 'goodness of fit' is accuarate\n",
    "\n",
    "Ref: https://www.investopedia.com/terms/c/chi-square-statistic.asp\n",
    "\n",
    "4. New datasets created below to test the results when relationships are inferred\n",
    "\n",
    "***"
   ]
  },
  {
   "cell_type": "code",
   "execution_count": 81,
   "metadata": {},
   "outputs": [],
   "source": [
    "# Setting up 4 lists for our dataset\n",
    "coffee_chocolate_biscuit2 = [['Coffee', 'Chocolate']] * 99\n",
    "coffee_plain_biscuit2 = [['Coffee', 'Plain']] * 1\n",
    "tea_chocolate_biscuit2 = [['Tea', 'Chocolate']] * 2\n",
    "tea_plain_biscuit2 = [['Tea', 'Plain']] * 98\n",
    "raw_data2 = coffee_chocolate_biscuit2 + coffee_plain_biscuit2 + tea_chocolate_biscuit2 + tea_plain_biscuit2"
   ]
  },
  {
   "cell_type": "code",
   "execution_count": 83,
   "metadata": {},
   "outputs": [
    {
     "data": {
      "text/plain": [
       "array([[99,  1],\n",
       "       [ 2, 98]])"
      ]
     },
     "execution_count": 83,
     "metadata": {},
     "output_type": "execute_result"
    }
   ],
   "source": [
    "drink2, biscuit2 = list(zip(*raw_data2))\n",
    "df2 = pd.DataFrame({'Drink2': drink2, 'Biscuit2': biscuit2})\n",
    "cross2 = ss.contingency.crosstab(df2['Drink2'], df2['Biscuit2'])\n",
    "first2, second2 = cross2.elements\n",
    "cross2.count"
   ]
  },
  {
   "cell_type": "code",
   "execution_count": 87,
   "metadata": {},
   "outputs": [
    {
     "data": {
      "text/plain": [
       "Chi2ContingencyResult(statistic=188.1988198819882, pvalue=7.861390490984109e-43, dof=1, expected_freq=array([[50.5, 49.5],\n",
       "       [50.5, 49.5]]))"
      ]
     },
     "execution_count": 87,
     "metadata": {},
     "output_type": "execute_result"
    }
   ],
   "source": [
    "result2 = ss.chi2_contingency(cross2.count, correction=False)\n",
    "result2"
   ]
  },
  {
   "cell_type": "markdown",
   "metadata": {},
   "source": [
    "P-Value is very close to 0 indicating that this observation is highly unlikely to be due to chance.\n",
    "\n",
    "Ref: https://www.ncbi.nlm.nih.gov/pmc/articles/PMC4111019/#:~:text=Values%20close%20to%200%20indicate,other%20than%20due%20to%20chance.\n",
    "\n",
    "The statistic of 188 is very high indicating that the expected results are very far from the actual data, meaning the 'goodness of fit' is skewed\n",
    "\n",
    "Ref: https://www.investopedia.com/terms/c/chi-square-statistic.asp\n",
    "***"
   ]
  },
  {
   "cell_type": "code",
   "execution_count": 94,
   "metadata": {},
   "outputs": [
    {
     "data": {
      "text/plain": [
       "array([[49, 51],\n",
       "       [52, 48]])"
      ]
     },
     "execution_count": 94,
     "metadata": {},
     "output_type": "execute_result"
    }
   ],
   "source": [
    "# Setting up 4 lists for our dataset\n",
    "coffee_chocolate_biscuit3 = [['Coffee', 'Chocolate']] * 49\n",
    "coffee_plain_biscuit3 = [['Coffee', 'Plain']] * 51\n",
    "tea_chocolate_biscuit3 = [['Tea', 'Chocolate']] * 52\n",
    "tea_plain_biscuit3 = [['Tea', 'Plain']] * 48\n",
    "raw_data3 = coffee_chocolate_biscuit3 + coffee_plain_biscuit3 + tea_chocolate_biscuit3 + tea_plain_biscuit3\n",
    "drink3, biscuit3 = list(zip(*raw_data3))\n",
    "df3 = pd.DataFrame({'Drink3': drink3, 'Biscuit3': biscuit3})\n",
    "cross3 = ss.contingency.crosstab(df3['Drink3'], df3['Biscuit3'])\n",
    "first3, second3 = cross3.elements\n",
    "cross3.count"
   ]
  },
  {
   "cell_type": "code",
   "execution_count": 95,
   "metadata": {},
   "outputs": [
    {
     "data": {
      "text/plain": [
       "Chi2ContingencyResult(statistic=0.18001800180018002, pvalue=0.6713577705365845, dof=1, expected_freq=array([[50.5, 49.5],\n",
       "       [50.5, 49.5]]))"
      ]
     },
     "execution_count": 95,
     "metadata": {},
     "output_type": "execute_result"
    }
   ],
   "source": [
    "result3 = ss.chi2_contingency(cross3.count, correction=False)\n",
    "result3"
   ]
  },
  {
   "cell_type": "markdown",
   "metadata": {},
   "source": [
    "P-Value is high indicating that this observation is highly likely to be due to chance\n",
    "\n",
    "Ref: https://www.ncbi.nlm.nih.gov/pmc/articles/PMC4111019/#:~:text=Values%20close%20to%200%20indicate,other%20than%20due%20to%20chance.\n",
    "\n",
    "The statistic of 0.18 is very low indicating that the expected results are very close to the actual data, meaning the 'goodness of fit' is accuarate\n",
    "\n",
    "Ref: https://www.investopedia.com/terms/c/chi-square-statistic.asp\n",
    "\n",
    "***"
   ]
  },
  {
   "cell_type": "markdown",
   "metadata": {},
   "source": [
    "End\n",
    "***"
   ]
  },
  {
   "cell_type": "markdown",
   "metadata": {},
   "source": []
  }
 ],
 "metadata": {
  "kernelspec": {
   "display_name": "base",
   "language": "python",
   "name": "python3"
  },
  "language_info": {
   "codemirror_mode": {
    "name": "ipython",
    "version": 3
   },
   "file_extension": ".py",
   "mimetype": "text/x-python",
   "name": "python",
   "nbconvert_exporter": "python",
   "pygments_lexer": "ipython3",
   "version": "3.11.4"
  },
  "orig_nbformat": 4
 },
 "nbformat": 4,
 "nbformat_minor": 2
}
